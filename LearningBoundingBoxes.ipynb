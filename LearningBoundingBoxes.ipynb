{
 "cells": [
  {
   "cell_type": "code",
   "execution_count": 1,
   "metadata": {},
   "outputs": [
    {
     "data": {
      "text/plain": [
       "['/vol/medic02/users/ag6516/miniconda/envs/TensorFlowCPU/lib/python2.7/site-packages/IPython/extensions',\n",
       " '/vol/medic02/users/ag6516/miniconda/envs/TensorFlowCPU/lib/python2.7/site-packages/setuptools-27.2.0-py2.7.egg',\n",
       " '/vol/medic02/users/ag6516/miniconda/envs/TensorFlowCPU/lib/python2.7/site-packages',\n",
       " '',\n",
       " '/vol/medic02/users/ag6516/miniconda/envs/TensorFlowCPU/lib/python27.zip',\n",
       " '/vol/medic02/users/ag6516/miniconda/envs/TensorFlowCPU/lib/python2.7',\n",
       " '/vol/medic02/users/ag6516/miniconda/envs/TensorFlowCPU/lib/python2.7/plat-linux2',\n",
       " '/vol/medic02/users/ag6516/miniconda/envs/TensorFlowCPU/lib/python2.7/lib-tk',\n",
       " '/vol/medic02/users/ag6516/miniconda/envs/TensorFlowCPU/lib/python2.7/lib-old',\n",
       " '/vol/medic02/users/ag6516/miniconda/envs/TensorFlowCPU/lib/python2.7/lib-dynload',\n",
       " '/homes/ag6516/.local/lib/python2.7/site-packages',\n",
       " '/vol/medic02/users/ag6516/miniconda/envs/TensorFlowCPU/lib/python2.7/site-packages',\n",
       " '/vol/medic02/users/ag6516/miniconda/envs/TensorFlowCPU/lib/python2.7/site-packages/PIL',\n",
       " '/vol/medic02/users/ag6516/miniconda/envs/TensorFlowCPU/lib/python2.7/site-packages/IPython/extensions',\n",
       " '/homes/ag6516/.ipython']"
      ]
     },
     "execution_count": 1,
     "metadata": {},
     "output_type": "execute_result"
    }
   ],
   "source": [
    "# Set local python and nltk paths\n",
    "import sys\n",
    "sys.path.insert(0,'/vol/medic02/users/ag6516/miniconda/envs/TensorFlowCPU/lib/python2.7/site-packages')\n",
    "sys.path.insert(0,'/vol/medic02/users/ag6516/miniconda/envs/TensorFlowCPU/lib/python2.7/site-packages/setuptools-27.2.0-py2.7.egg')\n",
    "sys.path.insert(0,'/vol/medic02/users/ag6516/miniconda/envs/TensorFlowCPU/lib/python2.7/site-packages/IPython/extensions')\n",
    "sys.path"
   ]
  },
  {
   "cell_type": "code",
   "execution_count": 2,
   "metadata": {
    "collapsed": true
   },
   "outputs": [],
   "source": [
    "%matplotlib inline\n",
    "\n",
    "import os\n",
    "import csv\n",
    "import json\n",
    "import pickle\n",
    "import pandas as pd\n",
    "import math\n",
    "\n",
    "import sklearn\n",
    "from sklearn import model_selection\n",
    "from sklearn.decomposition import PCA\n",
    "import numpy as np\n",
    "import skimage.transform\n",
    "from skimage.transform import resize\n",
    "import Image\n",
    "import matplotlib\n",
    "import matplotlib.pyplot as plt\n",
    "import matplotlib.patches as patches\n",
    "import random\n",
    "from random import randint\n",
    "random.seed(123)\n",
    "np.random.seed(123)\n",
    "\n",
    "from PIL import Image\n",
    "\n",
    "import tensorflow as tf"
   ]
  },
  {
   "cell_type": "code",
   "execution_count": 3,
   "metadata": {
    "collapsed": true
   },
   "outputs": [],
   "source": [
    "dir = ('/vol/medic02/users/ag6516/x_ray_fracture_localisation/')\n",
    "# dir = ('/Users/Aydan/PhD/x_ray_fracture_localisation/')\n",
    "df = pd.read_csv(dir + 'cleaned_reports_edited.csv')"
   ]
  },
  {
   "cell_type": "code",
   "execution_count": 4,
   "metadata": {},
   "outputs": [
    {
     "name": "stdout",
     "output_type": "stream",
     "text": [
      "330\n"
     ]
    }
   ],
   "source": [
    "exam_ids = []\n",
    "for folder in os.listdir(dir+'data/Images'):\n",
    "    exam_ids.append(str(folder))\n",
    "    \n",
    "print len(exam_ids)"
   ]
  },
  {
   "cell_type": "code",
   "execution_count": 5,
   "metadata": {
    "collapsed": true
   },
   "outputs": [],
   "source": [
    "hs = []\n",
    "ws = []\n",
    "for folder in os.listdir(dir+'data/Images'):\n",
    "    for image in os.listdir(dir+'data/Images/' + folder):\n",
    "        if image.endswith('.jpg'):\n",
    "            im = plt.imread(dir+'data/Images/' + folder + '/' + image)\n",
    "            h,w,c = im.shape\n",
    "            hs.append(h)\n",
    "            ws.append(w)"
   ]
  },
  {
   "cell_type": "code",
   "execution_count": 6,
   "metadata": {},
   "outputs": [
    {
     "name": "stdout",
     "output_type": "stream",
     "text": [
      "420\n",
      "3056\n",
      "650\n",
      "3056\n"
     ]
    }
   ],
   "source": [
    "print min(hs)\n",
    "print max(hs)\n",
    "print min(ws)\n",
    "print max(ws)"
   ]
  },
  {
   "cell_type": "code",
   "execution_count": 7,
   "metadata": {},
   "outputs": [
    {
     "name": "stdout",
     "output_type": "stream",
     "text": [
      "{'HBL': 12, 'WBAP': 25, 'L': 90, 'AP': 61, 'S': 26, 'WBL': 17}\n",
      "231\n"
     ]
    }
   ],
   "source": [
    "sample_images = []\n",
    "views = {}\n",
    "for eid in exam_ids:\n",
    "    for image in os.listdir(dir + 'data/Images/' + str(eid)):\n",
    "        if image.endswith('.jpg'):\n",
    "            item = {}\n",
    "            imid = os.path.splitext(image)[0] \n",
    "            item['exam id'] = eid\n",
    "            item['impath'] = eid + '/' + image\n",
    "            if '_' in image and os.path.exists(dir + 'data/Images/' + str(eid) + '/' + 'SSImages_BB' + '/' + 'ss_' + image):             \n",
    "                leg = imid.split('_')[-1]\n",
    "                \n",
    "                if leg != 'B':\n",
    "                    view = imid.split('_')[-2]\n",
    "\n",
    "                    item['imid'] = imid #.split('_')[0]\n",
    "                    item['leg'] = leg\n",
    "                    item['view'] = view\n",
    "                    if view not in views.keys():\n",
    "                        views[view] = 0\n",
    "                    views[view] = views[view] + 1\n",
    "\n",
    "                    f_ = open(dir + 'data/Images/' + str(eid) + '/' + 'SSImages_BB' + '/'  + image + '.txt', 'r')\n",
    "                    item['bbox'] = f_.readlines()[1].rstrip('\\n').split(' ')\n",
    "                else:\n",
    "                    continue\n",
    "            \n",
    "            else:\n",
    "                continue\n",
    "\n",
    "\n",
    "            sample_images.append(item)\n",
    "print views\n",
    "print len(sample_images)"
   ]
  },
  {
   "cell_type": "code",
   "execution_count": 8,
   "metadata": {},
   "outputs": [
    {
     "name": "stdout",
     "output_type": "stream",
     "text": [
      "184 47\n"
     ]
    },
    {
     "name": "stderr",
     "output_type": "stream",
     "text": [
      "/vol/medic02/users/ag6516/miniconda/envs/TensorFlowCPU/lib/python2.7/site-packages/sklearn/model_selection/_split.py:2010: FutureWarning: From version 0.21, test_size will always complement train_size unless both are specified.\n",
      "  FutureWarning)\n"
     ]
    }
   ],
   "source": [
    "train, test = model_selection.train_test_split(sample_images, train_size=0.8, random_state=42)\n",
    "\n",
    "print len(train), len(test)"
   ]
  },
  {
   "cell_type": "code",
   "execution_count": 9,
   "metadata": {},
   "outputs": [],
   "source": [
    "# Resize, pad, downsample, adjust bounding box coordinates\n",
    "\n",
    "def prep_image(im, bbox, ds=1):\n",
    "    im = np.array(im)\n",
    "    h, w, _ = im.shape\n",
    "    max_value = np.max(im)\n",
    "\n",
    "    if w >= h:\n",
    "        # resize\n",
    "        basewidth = 256\n",
    "        wpercent = (basewidth / float(w))\n",
    "        hsize = int((float(h) * float(wpercent)))\n",
    "        #print 'Before: ', im.shape\n",
    "        im = resize(im, (hsize, basewidth))\n",
    "        #print 'After resize: ', im.shape\n",
    "        bbox = bbox*wpercent\n",
    "        \n",
    "        # pad\n",
    "        p = int(math.floor(abs(hsize-256)/2))\n",
    "        im = np.pad(im, ((p,256-hsize-p), (0,0), (0,0)),'constant', constant_values=(max_value, max_value))\n",
    "        \n",
    "        #print 'After padding: ', im.shape \n",
    "        #adjust bbox coordinates\n",
    "        #bbox[0] = bbox[0] + p\n",
    "        bbox[1] = bbox[1] - (hsize-256)/2\n",
    "        #bbox[2] = bbox[2] + p\n",
    "        bbox[3] = bbox[3] - (hsize-256)/2\n",
    "\n",
    "            \n",
    "    elif h > w:\n",
    "        # resize\n",
    "        baseheight = 256\n",
    "        hpercent = (baseheight / float(h))\n",
    "        wsize = int((float(w) * float(hpercent)))\n",
    "        #print 'Before: ', im.shape\n",
    "        im = resize(im, (baseheight, wsize))\n",
    "        #print 'After resize: ', im.shape\n",
    "        bbox = bbox*hpercent\n",
    "        \n",
    "        # pad\n",
    "        p = int(math.floor(abs(wsize-256)/2))\n",
    "        im = np.pad(im, ((0,0), (p,256-wsize-p), (0,0)),'constant', constant_values=(max_value, max_value))\n",
    "\n",
    "        #print 'After padding: ', im.shape    \n",
    "        # adjust bbox coordinates\n",
    "        bbox[0] = bbox[0] - (wsize-256)/2\n",
    "        #bbox[1] = bbox[1] + p\n",
    "        bbox[2] = bbox[2] - (wsize-256)/2\n",
    "        #bbox[3] = bbox[3] + p\n",
    "\n",
    "    # Downsample\n",
    "    im = resize(im, (im.shape[0] / ds, im.shape[1] / ds))\n",
    "    bbox = bbox*1/ds\n",
    "\n",
    "    bbox = [int(i) for i in bbox]\n",
    "    \n",
    "    return im, bbox"
   ]
  },
  {
   "cell_type": "code",
   "execution_count": 13,
   "metadata": {},
   "outputs": [],
   "source": [
    "def next_batch(data, batch_size=100, display_images = False):\n",
    "    batch = random.sample(data, batch_size)\n",
    "    images = []\n",
    "    bboxes = []\n",
    "    for i in batch:\n",
    "        if display_images:\n",
    "            plt.figure()\n",
    "        \n",
    "        path = dir + 'data/Images/' + str(i['exam id']) + '/' + 'SSImages_BB' + '/'  + 'ss_' + i['imid'] + '.jpg'\n",
    "        im = plt.imread(path)\n",
    "        bbox = np.asarray(i['bbox'], dtype=int)\n",
    "        \n",
    "        if display_images:\n",
    "            #print 'Original: ', im.shape, 'Original bbox: ', i['bbox']\n",
    "            plt.subplot(1,2,1).set_title('Org. bbox: ' + str(bbox))\n",
    "            plt.subplot(1,2,1).imshow(im)\n",
    "            rect1 = patches.Rectangle((bbox[0],bbox[1]),abs(bbox[2]-bbox[0]),abs(bbox[3]-bbox[1]),linewidth=1,edgecolor='r',facecolor='none')\n",
    "            plt.subplot(1,2,1).add_patch(rect1)\n",
    "        \n",
    "        im, bbox = prep_image(im, bbox, ds=4)\n",
    "        images.append(im)\n",
    "        bboxes.append(bbox)\n",
    "        \n",
    "        if display_images:\n",
    "            #print 'Cropped: ', im.shape, 'Adjusted bbox: ', bbox\n",
    "            plt.subplot(1,2,2).set_title('Adj. bbox: ' + str(bbox))\n",
    "            plt.subplot(1,2,2).imshow(im)\n",
    "            rect2 = patches.Rectangle((bbox[0],bbox[1]),abs(bbox[2]-bbox[0]),abs(bbox[3]-bbox[1]),linewidth=1,edgecolor='r',facecolor='none')\n",
    "            plt.subplot(1,2,2).add_patch(rect2)\n",
    "    \n",
    "    return np.array(images), np.array(bboxes)"
   ]
  },
  {
   "cell_type": "code",
   "execution_count": 14,
   "metadata": {},
   "outputs": [
    {
     "name": "stdout",
     "output_type": "stream",
     "text": [
      "(1, 64, 64, 3)\n"
     ]
    },
    {
     "data": {
      "image/png": "[encoded data removed]",
      "text/plain": [
       "<matplotlib.figure.Figure at 0x7efeac5b68d0>"
      ]
     },
     "metadata": {},
     "output_type": "display_data"
    }
   ],
   "source": [
    "images, bboxes = next_batch(train, batch_size=1, display_images=True)\n",
    "print images.shape"
   ]
  },
  {
   "cell_type": "markdown",
   "metadata": {},
   "source": [
    "## Linear regression model"
   ]
  },
  {
   "cell_type": "code",
   "execution_count": null,
   "metadata": {},
   "outputs": [],
   "source": [
    "x = tf.placeholder(tf.float32, shape=[None, 256*256*3])\n",
    "y_ = tf.placeholder(tf.float32, shape=[None, 4])\n",
    "\n",
    "W = tf.Variable(tf.zeros([256*256*3,4]))\n",
    "b = tf.Variable(tf.zeros([4]))\n",
    "\n",
    "y = tf.matmul(x,W) + b\n",
    "\n",
    "loss = tf.reduce_mean(tf.losses.mean_squared_error(y_, y))\n",
    "\n",
    "train_step = tf.train.GradientDescentOptimizer(0.01).minimize(loss)"
   ]
  },
  {
   "cell_type": "code",
   "execution_count": null,
   "metadata": {},
   "outputs": [],
   "source": [
    "BS = 20\n",
    "print_y = tf.Print(y,[y])\n",
    "\n",
    "with tf.Session() as sess:\n",
    "    sess.run(tf.global_variables_initializer())\n",
    "    for i in range(100):\n",
    "        ims, bbs = next_batch(train, batch_size=BS)\n",
    "        ims_array = np.array(ims)\n",
    "        ims = np.reshape(ims_array, [BS, 256*256*3])\n",
    "        train_step.run(feed_dict={x: ims, y_: bbs})\n",
    "        if i%10==0:\n",
    "            print loss.eval(feed_dict={x: ims, y_: bbs})"
   ]
  },
  {
   "cell_type": "markdown",
   "metadata": {},
   "source": [
    "## CNN regression model"
   ]
  },
  {
   "cell_type": "code",
   "execution_count": 15,
   "metadata": {
    "collapsed": true
   },
   "outputs": [],
   "source": [
    "#n_input  = 256*256*3\n",
    "n_output = 4\n",
    "\n",
    "def conv_simple(_input):\n",
    "    # Convolutional Layer #1\n",
    "    _conv1 = tf.layers.conv2d(\n",
    "        inputs=_input,\n",
    "        filters=32,\n",
    "        kernel_size=[5, 5],\n",
    "        padding=\"same\",\n",
    "        activation=tf.nn.relu)\n",
    "\n",
    "    # Pooling Layer #1\n",
    "    _pool1 = tf.layers.max_pooling2d(inputs=_conv1, pool_size=[2, 2], strides=2)\n",
    "\n",
    "    # Convolutional Layer #2 and Pooling Layer #2\n",
    "    _conv2 = tf.layers.conv2d(\n",
    "        inputs=_pool1,\n",
    "        filters=64,\n",
    "        kernel_size=[5, 5],\n",
    "        padding=\"same\",\n",
    "        activation=tf.nn.relu)\n",
    "    _pool2 = tf.layers.max_pooling2d(inputs=_conv2, pool_size=[2, 2], strides=2)\n",
    "\n",
    "    # Dense Layer\n",
    "    #_pool2_flat = tf.reshape(_pool2, [-1, 5242880])\n",
    "    \n",
    "    _pool2_flat = tf.reshape(\n",
    "        _pool2,\n",
    "        [-1, _pool2.get_shape().as_list()[1] *\n",
    "         _pool2.get_shape().as_list()[2] *\n",
    "         _pool2.get_shape().as_list()[3]])\n",
    "\n",
    "    #_pool1_flat = tf.reshape(_pool1, [-1, 524288])\n",
    "    \n",
    "    _dense = tf.layers.dense(inputs=_pool2_flat, units=1024)#, activation=tf.nn.relu)\n",
    "\n",
    "    # Output Layer\n",
    "    _out = tf.layers.dense(inputs=_dense, units=4)\n",
    "    \n",
    "    # Return everything\n",
    "    out = {\n",
    "        #'input': _input, 'conv1': _conv1, 'conv2': _conv2, \n",
    "        #'pool1': _pool1,\n",
    "        #'pool2': _pool2, \n",
    "        #'dense': _dense, \n",
    "        'out': _out\n",
    "    }\n",
    "    return out"
   ]
  },
  {
   "cell_type": "code",
   "execution_count": 16,
   "metadata": {},
   "outputs": [],
   "source": [
    "# tf Graph input\n",
    "x = tf.placeholder(tf.float32, [None, 64, 64, 3])\n",
    "y = tf.placeholder(tf.float32, [None, n_output])\n",
    "\n",
    "# Parameters\n",
    "learning_rate   = 0.0001\n",
    "training_epochs = 100\n",
    "batch_size      = 20\n",
    "display_step    = 10\n",
    "\n",
    "# Functions\n",
    "\n",
    "_pred = conv_simple(x)['out']\n",
    "cost = tf.reduce_mean(tf.losses.mean_squared_error(y, _pred))\n",
    "optm = tf.train.AdamOptimizer(learning_rate=learning_rate).minimize(cost)\n",
    "#_corr = tf.equal(tf.argmax(_pred,1), tf.argmax(y,1)) # Count corrects\n",
    "#accr = tf.reduce_mean(tf.cast(_corr, tf.float32)) # Accuracy\n",
    "#init = tf.initialize_all_variables()\n",
    "\n",
    "# Saver \n",
    "#save_step = 10;\n",
    "#savedir = \"nets/\"\n",
    "#saver = tf.train.Saver(max_to_keep=3) "
   ]
  },
  {
   "cell_type": "code",
   "execution_count": null,
   "metadata": {},
   "outputs": [],
   "source": [
    "with tf.Session() as sess:\n",
    "    sess.run(tf.global_variables_initializer())    \n",
    "    for epoch in range(training_epochs):\n",
    "        avg_cost = 0.\n",
    "        total_batch = int(len(train)/batch_size)\n",
    "        # Loop over all batches\n",
    "        for i in range(total_batch):\n",
    "            batch_xs, batch_ys = next_batch(train, batch_size)\n",
    "            # Fit training using batch data\n",
    "            sess.run(optm, feed_dict={x: batch_xs, y: batch_ys})\n",
    "            # Compute average loss\n",
    "            avg_cost += sess.run(cost, feed_dict={x: batch_xs, y: batch_ys})/total_batch\n",
    "\n",
    "        # Display logs per epoch step\n",
    "        if epoch % display_step == 0: \n",
    "            print (\"Epoch: %03d/%03d cost: %.9f\" % (epoch, training_epochs, avg_cost))\n",
    "            #train_acc = sess.run(accr, feed_dict={x: batch_xs, y: batch_ys})\n",
    "            print (\" Training cost: %.3f\" % (avg_cost))\n",
    "            testimgs, testbboxs = next_batch(test, batch_size=47)\n",
    "            test_cost = sess.run(cost, feed_dict={x: testimgs, y: testbboxs})\n",
    "            print (\" Test cost: %.3f\" % (test_cost))\n",
    "\n",
    "        # Save Net\n",
    "        if epoch % save_step == 0:\n",
    "            saver.save(sess, \"nets/cnn_bboxes_simple.ckpt-\" + str(epoch))"
   ]
  },
  {
   "cell_type": "code",
   "execution_count": null,
   "metadata": {},
   "outputs": [],
   "source": [
    "# tf Graph input\n",
    "#x = tf.placeholder(tf.float32, [None, 64, 64, 3])\n",
    "#y = tf.placeholder(tf.float32, [None, n_output])\n",
    "\n",
    "#tf.reset_default_graph()\n",
    "new_saver = tf.train.Saver() \n",
    "\n",
    "# Later, launch the model, use the saver to restore variables from disk, and\n",
    "# do some work with the model.\n",
    "with tf.Session() as sess:\n",
    "    # Restore variables from disk.\n",
    "    #new_saver = tf.train.import_meta_graph('nets/cnn_bboxes_simple.ckpt-999.meta')\n",
    "    new_saver.restore(sess, \"nets/cnn_bboxes_simple.ckpt-999\")    \n",
    "    print(\"Model restored.\")\n",
    "    #graph = tf.get_default_graph()\n",
    "    # Check the values of the variables\n",
    "    testimgs, testbboxs = next_batch(test, batch_size=47)\n",
    "    test_cost = sess.run(cost, feed_dict={x: testimgs, y: testbboxs})\n",
    "    print test_cost\n",
    "    pred_bboxes = sess.run(_pred, feed_dict={x: testimgs, y: testbboxs})\n",
    "    print pred_bboxes\n"
   ]
  },
  {
   "cell_type": "code",
   "execution_count": null,
   "metadata": {},
   "outputs": [],
   "source": [
    "print len(sample_images)"
   ]
  },
  {
   "cell_type": "code",
   "execution_count": 63,
   "metadata": {},
   "outputs": [],
   "source": [
    "def extract_bboxes(ds=4, display_images = False):\n",
    "\n",
    "    new_saver = tf.train.Saver() \n",
    "    with tf.Session() as sess:\n",
    "        \n",
    "        # Restore variables from disk.\n",
    "        new_saver.restore(sess, \"nets/64x64/cnn_bboxes_simple.ckpt-999\")    \n",
    "        print(\"Model restored.\")\n",
    "        counter=0\n",
    "        for eid in exam_ids:\n",
    "            counter = counter+1\n",
    "            print counter\n",
    "            if counter==2:\n",
    "                break\n",
    "            for image in os.listdir(dir + 'data/Images/' + str(eid)):\n",
    "                if image.endswith('.jpg'):\n",
    "                    im = plt.imread(dir + 'data/Images/' + str(eid) + '/' + image)\n",
    "                    im = np.array(im)\n",
    "                    h, w, _ = im.shape\n",
    "                    max_value = np.max(im)\n",
    "\n",
    "                    if w >= h:\n",
    "                        # resize\n",
    "                        basewidth = 256\n",
    "                        wpercent = (basewidth / float(w))\n",
    "                        hsize = int((float(h) * float(wpercent)))\n",
    "                        #print 'Before: ', im.shape\n",
    "                        im = resize(im, (hsize, basewidth))\n",
    "                        #print 'After resize: ', im.shape\n",
    "\n",
    "                        # pad\n",
    "                        p = int(math.floor(abs(hsize-256)/2))\n",
    "                        im = np.pad(im, ((p,256-hsize-p), (0,0), (0,0)),'constant', constant_values=(max_value, max_value))\n",
    "\n",
    "                    elif h > w:\n",
    "                        # resize\n",
    "                        baseheight = 256\n",
    "                        hpercent = (baseheight / float(h))\n",
    "                        wsize = int((float(w) * float(hpercent)))\n",
    "                        #print 'Before: ', im.shape\n",
    "                        im = resize(im, (baseheight, wsize))\n",
    "                        #print 'After resize: ', im.shape\n",
    "\n",
    "                        # pad\n",
    "                        p = int(math.floor(abs(wsize-256)/2))\n",
    "                        im = np.pad(im, ((0,0), (p,256-wsize-p), (0,0)),'constant', constant_values=(max_value, max_value))\n",
    "\n",
    "                    # Downsample\n",
    "                    im = resize(im, (im.shape[0] / ds, im.shape[1] / ds))\n",
    "                    im = im.reshape((1, im.shape[0], im.shape[1], im.shape[2]))\n",
    "                    \n",
    "                    pred_bbox = sess.run(_pred, feed_dict={x: im})\n",
    "                    pred_bbox = [int(i) for i in pred_bbox[0]]\n",
    "                    # print pred_bbox\n",
    "                    up_bbox = = pred_bbox*ds \n",
    "                    \n",
    "                    if display_images:\n",
    "                        plt.figure()\n",
    "                        #print 'Original: ', im.shape, 'Original bbox: ', i['bbox']\n",
    "                        im = im.reshape((im.shape[1], im.shape[2], im.shape[3]))\n",
    "                        plt.subplot(1,2,1).set_title('Org. bbox: ' + str(pred_bbox))\n",
    "                        plt.subplot(1,2,1).imshow(im)\n",
    "                        rect1 = patches.Rectangle((pred_bbox[0],pred_bbox[1]),\n",
    "                                                  abs(pred_bbox[2]-pred_bbox[0]),\n",
    "                                                  abs(pred_bbox[3]-pred_bbox[1]),linewidth=1,\n",
    "                                                  edgecolor='r',facecolor='none')\n",
    "                        plt.subplot(1,2,1).add_patch(rect1)"
   ]
  },
  {
   "cell_type": "code",
   "execution_count": 64,
   "metadata": {},
   "outputs": [
    {
     "name": "stdout",
     "output_type": "stream",
     "text": [
      "INFO:tensorflow:Restoring parameters from nets/64x64/cnn_bboxes_simple.ckpt-999\n",
      "Model restored.\n",
      "1\n",
      "[18, 6, 37, 23]\n",
      "[9, 22, 43, 44]\n",
      "[13, 12, 48, 55]\n",
      "[2, 6, 47, 49]\n",
      "[13, 7, 55, 54]\n",
      "[8, 7, 42, 51]\n",
      "2\n"
     ]
    },
    {
     "data": {
      "image/png": "[encoded data removed]",
      "text/plain": [
       "<matplotlib.figure.Figure at 0x7efd2e9696d0>"
      ]
     },
     "metadata": {},
     "output_type": "display_data"
    },
    {
     "data": {
      "image/png": "[encoded data removed]",
      "text/plain": [
       "<matplotlib.figure.Figure at 0x7efd2b8b3750>"
      ]
     },
     "metadata": {},
     "output_type": "display_data"
    },
    {
     "data": {
      "image/png": "[encoded data removed]",
      "text/plain": [
       "<matplotlib.figure.Figure at 0x7efd2dae8850>"
      ]
     },
     "metadata": {},
     "output_type": "display_data"
    },
    {
     "data": {
      "image/png": "[encoded data removed]",
      "text/plain": [
       "<matplotlib.figure.Figure at 0x7efd2ddad550>"
      ]
     },
     "metadata": {},
     "output_type": "display_data"
    },
    {
     "data": {
      "image/png": "[encoded data removed]",
      "text/plain": [
       "<matplotlib.figure.Figure at 0x7efd2dd96a50>"
      ]
     },
     "metadata": {},
     "output_type": "display_data"
    },
    {
     "data": {
      "image/png": "[encoded data removed]",
      "text/plain": [
       "<matplotlib.figure.Figure at 0x7efd2dd3f550>"
      ]
     },
     "metadata": {},
     "output_type": "display_data"
    }
   ],
   "source": [
    "extract_bboxes(display_images=True)"
   ]
  },
  {
   "cell_type": "code",
   "execution_count": null,
   "metadata": {
    "collapsed": true
   },
   "outputs": [],
   "source": []
  }
 ],
 "metadata": {
  "anaconda-cloud": {},
  "kernelspec": {
   "display_name": "Python [conda env:TensorFlowCPU]",
   "language": "python",
   "name": "conda-env-TensorFlowCPU-py"
  },
  "language_info": {
   "codemirror_mode": {
    "name": "ipython",
    "version": 2
   },
   "file_extension": ".py",
   "mimetype": "text/x-python",
   "name": "python",
   "nbconvert_exporter": "python",
   "pygments_lexer": "ipython2",
   "version": "2.7.14"
  }
 },
 "nbformat": 4,
 "nbformat_minor": 2
}
