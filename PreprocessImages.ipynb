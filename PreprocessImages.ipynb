{
 "cells": [
  {
   "cell_type": "code",
   "execution_count": 1,
   "metadata": {
    "collapsed": true
   },
   "outputs": [],
   "source": [
    "# Set local python and nltk paths\n",
    "import sys\n",
    "sys.path.insert(0,'/vol/medic02/users/ag6516/miniconda/envs/TheanoLasagne/lib/python2.7/site-packages')\n",
    "sys.path.insert(0,'/vol/medic02/users/ag6516/miniconda/envs/TheanoLasagne/lib/python2.7/site-packages/setuptools-27.2.0-py2.7.egg')\n",
    "sys.path.insert(0,'/vol/medic02/users/ag6516/miniconda/envs/TheanoLasagne/lib/python2.7/site-packages/IPython/extensions')\n",
    "sys.path\n",
    "import nltk\n",
    "nltk.data.path = ['/vol/medic02/users/ag6516/nltk_data']"
   ]
  },
  {
   "cell_type": "code",
   "execution_count": 2,
   "metadata": {},
   "outputs": [],
   "source": [
    "dir = ('/vol/medic02/users/ag6516/x_ray_fracture_localisation/')\n",
    "# dir = ('/Users/Aydan/PhD/x_ray_fracture_localisation/')"
   ]
  },
  {
   "cell_type": "code",
   "execution_count": 3,
   "metadata": {
    "collapsed": true
   },
   "outputs": [],
   "source": [
    "import os"
   ]
  },
  {
   "cell_type": "code",
   "execution_count": 4,
   "metadata": {},
   "outputs": [],
   "source": [
    "sample_images = []\n",
    "views = set()\n",
    "for pid in os.listdir(dir + 'data/Images/'):\n",
    "    for image in os.listdir(dir + 'data/Images/' + str(pid)):\n",
    "        if image.endswith('.jpg'):\n",
    "            if '_' in image:\n",
    "                imid = os.path.splitext(image)[0]\n",
    "                leg = imid.split('_')[-1]\n",
    "                view = imid.split('_')[-2]\n",
    "\n",
    "                item = {}\n",
    "\n",
    "                item['imid'] = imid.split('_')[0]\n",
    "                item['patient id'] = pid\n",
    "                item['leg'] = leg\n",
    "                item['view'] = view\n",
    "                views.add(view)\n",
    "                sample_images.append(item)"
   ]
  },
  {
   "cell_type": "code",
   "execution_count": 5,
   "metadata": {},
   "outputs": [
    {
     "name": "stdout",
     "output_type": "stream",
     "text": [
      "Total number of images:  255\n",
      "\n",
      "Num views:  6\n",
      "\n",
      "Count of view HBL is 12\n",
      "\n",
      "Count of view WBAP is 34\n",
      "\n",
      "Count of view L is 90\n",
      "\n",
      "Count of view AP is 69\n",
      "\n",
      "Count of view S is 33\n",
      "\n",
      "Count of view WBL is 17\n"
     ]
    }
   ],
   "source": [
    "print 'Total number of images: ', len(sample_images)\n",
    "print ''\n",
    "print 'Num views: ', len(views)\n",
    "for v in views:\n",
    "    print ''\n",
    "    count = len([i for i in sample_images if i['view'] == v])\n",
    "    print 'Count of view {} is {}'.format(v, count)"
   ]
  }
 ],
 "metadata": {
  "anaconda-cloud": {},
  "kernelspec": {
   "display_name": "Python [conda env:TheanoLasagne]",
   "language": "python",
   "name": "conda-env-TheanoLasagne-py"
  },
  "language_info": {
   "codemirror_mode": {
    "name": "ipython",
    "version": 2
   },
   "file_extension": ".py",
   "mimetype": "text/x-python",
   "name": "python",
   "nbconvert_exporter": "python",
   "pygments_lexer": "ipython2",
   "version": "2.7.13"
  }
 },
 "nbformat": 4,
 "nbformat_minor": 2
}
