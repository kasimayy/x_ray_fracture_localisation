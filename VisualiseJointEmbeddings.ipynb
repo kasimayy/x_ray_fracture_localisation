{
 "cells": [
  {
   "cell_type": "code",
   "execution_count": 14,
   "metadata": {
    "collapsed": false
   },
   "outputs": [],
   "source": [
    "# Set local python and nltk paths\n",
    "import sys\n",
    "sys.path.insert(0,'/vol/medic02/users/ag6516/miniconda/envs/TheanoLasagne/lib/python2.7/site-packages')\n",
    "sys.path.insert(0,'/vol/medic02/users/ag6516/miniconda/envs/TheanoLasagne/lib/python2.7/site-packages/setuptools-27.2.0-py2.7.egg')\n",
    "sys.path.insert(0,'/vol/medic02/users/ag6516/miniconda/envs/TheanoLasagne/lib/python2.7/site-packages/IPython/extensions')\n",
    "sys.path\n",
    "import nltk\n",
    "nltk.data.path = ['/vol/medic02/users/ag6516/nltk_data']"
   ]
  },
  {
   "cell_type": "markdown",
   "metadata": {},
   "source": [
    "# 1. Report Pre-processing"
   ]
  },
  {
   "cell_type": "code",
   "execution_count": 16,
   "metadata": {
    "collapsed": false
   },
   "outputs": [],
   "source": [
    "dir = ('/vol/medic02/users/ag6516/x_ray_fracture_localisation/')\n",
    "# dir = ('/Users/Aydan/PhD/x_ray_fracture_localisation/')\n",
    "df = pd.read_csv(dir + 'cleaned_reports_edited.csv')"
   ]
  },
  {
   "cell_type": "code",
   "execution_count": 63,
   "metadata": {
    "collapsed": false
   },
   "outputs": [],
   "source": [
    "%matplotlib inline\n",
    "\n",
    "import os\n",
    "import csv\n",
    "import json\n",
    "import pickle\n",
    "import pandas as pd\n",
    "\n",
    "import sklearn\n",
    "from sklearn import model_selection\n",
    "import numpy as np\n",
    "import skimage.transform\n",
    "import matplotlib.pyplot as plt\n",
    "import random\n",
    "random.seed(123)\n",
    "np.random.seed(123)\n",
    "\n",
    "import re\n",
    "import nltk\n",
    "from nltk import word_tokenize\n",
    "from nltk.corpus import stopwords\n",
    "\n",
    "# Set THEANO_FLAGS='device=cuda0,floatX=float32' to run notebook on gpu\n",
    "import lasagne\n",
    "from lasagne.utils import floatX\n",
    "import theano\n",
    "import theano.tensor as T\n",
    "from collections import Counter\n",
    "from lasagne.utils import floatX\n",
    "\n",
    "import googlenet\n",
    "\n",
    "from read_data import read_csv_into_df\n",
    "from vis_utils import kmeans_clustering, plot_pca, visualise_word_clusters2, kmeans_silhouette\n",
    "from vis_utils import save_clusters_to_json, load_clusters_from_json"
   ]
  },
  {
   "cell_type": "code",
   "execution_count": 54,
   "metadata": {
    "collapsed": false
   },
   "outputs": [
    {
     "name": "stdout",
     "output_type": "stream",
     "text": [
      "Vocab length:  1737\n",
      "Avg no. of appearances:  43\n",
      "STD:  349.410439207\n",
      "Number of reports:  3561\n",
      "Average length of report:  30.8393709632\n",
      "\n",
      "Unnamed: 0          3561\n",
      "Accession           3561\n",
      "Clinical history    2221\n",
      "Comment             2390\n",
      "Report text         3561\n",
      "Cleaned report      3561\n",
      "dtype: int64\n"
     ]
    }
   ],
   "source": [
    "reports = []\n",
    "reports_tok = []\n",
    "labels = []\n",
    "words = []\n",
    "report_lenghts = []\n",
    "\n",
    "for i, row in df.iterrows():\n",
    "    report = row['Report text'].decode('utf-8').lower()\n",
    "    \n",
    "    # Remove markdown\n",
    "    for char in ['\\n', '\\b']:\n",
    "        report = report.replace(char, '')\n",
    "    \n",
    "    # Replace unnecessary punctuation \n",
    "    for char in ['~', '\"']:\n",
    "        report = report.replace(char, '')\n",
    "        \n",
    "    for char in ['!', '?', ';', ':', '.']:\n",
    "        report = report.replace(char, ' . ')\n",
    "    \n",
    "    for char in ['(', ')', ',', '/']:\n",
    "        report = report.replace(char, ' , ')\n",
    "        \n",
    "    # filter out 'comparison' + dates\n",
    "    #report = re.sub('( compar.*?\\d{4})', '', report)\n",
    "    report = re.sub('(compar.*?\\d{4})', '', report)\n",
    "    report = re.sub('(compar.*?\\d{2})', '', report)\n",
    "    report = re.sub('(xr knee both)', '', report)\n",
    "    report = re.sub('(xr knee)', '', report)\n",
    "    report = re.sub('(previous.*comparison)', '', report)\n",
    "        \n",
    "    # Tokenize\n",
    "    report_tok = word_tokenize(report)\n",
    "    report_length = len(report_tok)\n",
    "    \n",
    "    # Remove stopwords\n",
    "    filtered_report_tok = [word for word in report_tok if word not in stopwords.words('english')]\n",
    "    filtered_report = ' '.join(filtered_report_tok)\n",
    "    \n",
    "    reports.append(filtered_report)\n",
    "    reports_tok.append(filtered_report_tok)\n",
    "    labels.append(row['Accession'])\n",
    "    [words.append(word) for word in filtered_report_tok]\n",
    "    report_lenghts.append(report_length)\n",
    "\n",
    "print 'Vocab length: ', len(sorted(set(words)))\n",
    "print 'Avg no. of appearances: ', len(words)/len(sorted(set(words)))\n",
    "fdist_all = nltk.FreqDist(words)\n",
    "freqs = [freq for _, freq in fdist_all.most_common()]\n",
    "print 'STD: ', np.std(freqs)\n",
    "#print fdist_all.hapaxes()\n",
    "print 'Number of reports: ', len(reports)\n",
    "print 'Average length of report: ', float(sum(report_lenghts))/float(len(reports))\n",
    "print ''\n",
    "df['Cleaned report'] = reports\n",
    "print df.count()"
   ]
  },
  {
   "cell_type": "markdown",
   "metadata": {
    "collapsed": true
   },
   "source": [
    "## 1.2 Extract CNN image embeddings"
   ]
  },
  {
   "cell_type": "code",
   "execution_count": 7,
   "metadata": {
    "collapsed": false
   },
   "outputs": [],
   "source": [
    "# print(theano.config)"
   ]
  },
  {
   "cell_type": "markdown",
   "metadata": {},
   "source": [
    "Build the model and select layers we need - the features are taken from the final network layer, before the softmax nonlinearity.\n"
   ]
  },
  {
   "cell_type": "code",
   "execution_count": 8,
   "metadata": {
    "collapsed": false
   },
   "outputs": [],
   "source": [
    "cnn_layers = googlenet.build_model()\n",
    "cnn_input_var = cnn_layers['input'].input_var\n",
    "cnn_feature_layer = cnn_layers['loss3/classifier']\n",
    "cnn_output_layer = cnn_layers['prob']\n",
    "\n",
    "get_cnn_features = theano.function([cnn_input_var], lasagne.layers.get_output(cnn_feature_layer))"
   ]
  },
  {
   "cell_type": "markdown",
   "metadata": {},
   "source": [
    "Load the pretrained weights into the network\n"
   ]
  },
  {
   "cell_type": "code",
   "execution_count": 9,
   "metadata": {
    "collapsed": true
   },
   "outputs": [],
   "source": [
    "model_param_values = pickle.load(open('blvc_googlenet.pkl'))['param values']\n",
    "lasagne.layers.set_all_param_values(cnn_output_layer, model_param_values)"
   ]
  },
  {
   "cell_type": "markdown",
   "metadata": {},
   "source": [
    "The images need some preprocessing before they can be fed to the CNN\n"
   ]
  },
  {
   "cell_type": "code",
   "execution_count": 10,
   "metadata": {
    "collapsed": true
   },
   "outputs": [],
   "source": [
    "MEAN_VALUES = np.array([104, 117, 123]).reshape((3,1,1))\n",
    "\n",
    "def prep_image(im):\n",
    "    if len(im.shape) == 2:\n",
    "        im = im[:, :, np.newaxis]\n",
    "        im = np.repeat(im, 3, axis=2)\n",
    "    # Resize so smallest dim = 224, preserving aspect ratio\n",
    "    h, w, _ = im.shape\n",
    "    if h < w:\n",
    "        im = skimage.transform.resize(im, (224, w*224/h), preserve_range=True)\n",
    "    else:\n",
    "        im = skimage.transform.resize(im, (h*224/w, 224), preserve_range=True)\n",
    "\n",
    "    # Central crop to 224x224\n",
    "    h, w, _ = im.shape\n",
    "    im = im[h//2-112:h//2+112, w//2-112:w//2+112]\n",
    "    \n",
    "    rawim = np.copy(im).astype('uint8')\n",
    "    \n",
    "    # Shuffle axes to c01\n",
    "    im = np.swapaxes(np.swapaxes(im, 1, 2), 0, 1)\n",
    "    \n",
    "    # Convert to BGR\n",
    "    im = im[::-1, :, :]\n",
    "\n",
    "    im = im - MEAN_VALUES\n",
    "    return rawim, floatX(im[np.newaxis])"
   ]
  },
  {
   "cell_type": "code",
   "execution_count": 11,
   "metadata": {
    "collapsed": false
   },
   "outputs": [],
   "source": [
    "# convert png to jpg\n",
    "# import os\n",
    "# from PIL import Image\n",
    "\n",
    "# for folder in os.listdir(dir+'data/Images'):\n",
    "#     for image in os.listdir(dir+'data/Images/' + str(folder)):\n",
    "#         print image\n",
    "#         try:\n",
    "#             im = Image.open(dir+'data/Images/' + str(folder) + '/' + str(image))\n",
    "#             rgb_im = im.convert('RGB')\n",
    "#             new_fn = os.path.splitext(image)[0] + '.jpg'\n",
    "#             print new_fn\n",
    "#             rgb_im.save(dir+'data/Images/' + str(folder) + '/' + new_fn)\n",
    "#         except IOError, e:\n",
    "#             print \"error opening file :: %s : %s\" % (dir+'data/Images/' + str(folder) + '/' + str(image), e)\n",
    "#             continue\n",
    "\n",
    "\n",
    "# print len(patient_ids)"
   ]
  },
  {
   "cell_type": "markdown",
   "metadata": {},
   "source": [
    "Sample exams. Each exam may contain more than one x-ray image, taken from different views."
   ]
  },
  {
   "cell_type": "code",
   "execution_count": 18,
   "metadata": {
    "collapsed": false
   },
   "outputs": [
    {
     "name": "stdout",
     "output_type": "stream",
     "text": [
      "330\n",
      "RJ109691971\n",
      "377    No previous radiograph is available for comparison.\\n\\nThere is bilateral severe tricompartmental degenerative changes with complete loss of the joint space in the medial knee compartment, osteophytosis and subchondral sclerosis.\\nNo acute bone injury.\n",
      "Name: Report text, dtype: object\n"
     ]
    },
    {
     "data": {
      "image/png": "[encoded data removed]",
      "text/plain": [
       "<matplotlib.figure.Figure at 0x7fc63f9de950>"
      ]
     },
     "metadata": {},
     "output_type": "display_data"
    },
    {
     "data": {
      "image/png": "[encoded data removed]",
      "text/plain": [
       "<matplotlib.figure.Figure at 0x7fc63f6c5cd0>"
      ]
     },
     "metadata": {},
     "output_type": "display_data"
    },
    {
     "data": {
      "image/png": "[encoded data removed]",
      "text/plain": [
       "<matplotlib.figure.Figure at 0x7fc63f64ae10>"
      ]
     },
     "metadata": {},
     "output_type": "display_data"
    },
    {
     "data": {
      "image/png": "[encoded data removed]",
      "text/plain": [
       "<matplotlib.figure.Figure at 0x7fc63f569390>"
      ]
     },
     "metadata": {},
     "output_type": "display_data"
    }
   ],
   "source": [
    "pd.options.display.max_colwidth = 4000\n",
    "\n",
    "patient_ids = []\n",
    "for folder in os.listdir(dir+'data/Images'):\n",
    "    patient_ids.append(str(folder))\n",
    "\n",
    "print len(patient_ids)\n",
    "sample_patient = random.choice(patient_ids)\n",
    "print sample_patient\n",
    "\n",
    "report_sample = df.loc[df['Accession'] == sample_patient]['Report text']\n",
    "print report_sample\n",
    "\n",
    "sample_exam = []\n",
    "for image in os.listdir(dir + 'data/Images/' + str(sample_patient)):\n",
    "    if image.endswith('.jpg'):\n",
    "        im = plt.imread(dir + 'data/Images/' + str(sample_patient) + '/' + str(image))\n",
    "        sample_exam.append(im)\n",
    "        plt.figure()\n",
    "        plt.imshow(im)\n",
    "        im.shape"
   ]
  },
  {
   "cell_type": "code",
   "execution_count": 28,
   "metadata": {
    "collapsed": false
   },
   "outputs": [
    {
     "name": "stderr",
     "output_type": "stream",
     "text": [
      "/vol/medic02/users/ag6516/miniconda/envs/TheanoLasagne/lib/python2.7/site-packages/skimage/transform/_warps.py:84: UserWarning: The default mode, 'constant', will be changed to 'reflect' in skimage 0.15.\n",
      "  warn(\"The default mode, 'constant', will be changed to 'reflect' in \"\n"
     ]
    }
   ],
   "source": [
    "prepd_images = []\n",
    "for im in sample_exam:\n",
    "    rawim, cnn_im = prep_image(im)\n",
    "    prepd_images.append((rawim, cnn_im))"
   ]
  },
  {
   "cell_type": "code",
   "execution_count": 29,
   "metadata": {
    "collapsed": false
   },
   "outputs": [
    {
     "name": "stdout",
     "output_type": "stream",
     "text": [
      "Band Aid\n",
      "shower curtain\n",
      "seat belt, seatbelt\n",
      "brassiere, bra, bandeau\n"
     ]
    }
   ],
   "source": [
    "CLASSES = pickle.load(open('blvc_googlenet.pkl'))['synset words']\n",
    "for im in prepd_images:\n",
    "    p = get_cnn_features(im[1])\n",
    "    print(CLASSES[p.argmax()])"
   ]
  },
  {
   "cell_type": "markdown",
   "metadata": {},
   "source": [
    "Extract a sample of images, assign the corresponding report and a view label for each image"
   ]
  },
  {
   "cell_type": "code",
   "execution_count": 56,
   "metadata": {
    "collapsed": false
   },
   "outputs": [],
   "source": [
    "sample_images = []\n",
    "for pid in patient_ids:\n",
    "    for image in os.listdir(dir + 'data/Images/' + str(pid)):\n",
    "        if image.endswith('.jpg'):\n",
    "            if '_' in image:\n",
    "                imid = os.path.splitext(image)[0]\n",
    "                leg = imid.split('_')[-1]\n",
    "                view = imid.split('_')[-2]\n",
    "            \n",
    "                item = {}\n",
    "            \n",
    "                item['imid'] = imid.split('_')[0]\n",
    "                item['patient id'] = pid\n",
    "                item['report'] = reports[labels.index(pid)]\n",
    "                item['tokens'] = reports_tok[labels.index(pid)]\n",
    "                item['leg'] = leg\n",
    "                item['view'] = view\n",
    "                sample_images.append(item)\n",
    "\n",
    "import json\n",
    "with open('sample_images.json', 'w') as fp:\n",
    "    json.dump(sample_images, fp)"
   ]
  },
  {
   "cell_type": "markdown",
   "metadata": {},
   "source": [
    "Extract CNN features for each image"
   ]
  },
  {
   "cell_type": "code",
   "execution_count": 58,
   "metadata": {
    "collapsed": false
   },
   "outputs": [],
   "source": [
    "for item in sample_images:\n",
    "    path = dir + 'data/Images/' + str(item['patient id']) + '/' + item['imid'] + '_' + item['view'] + '_' + item['leg'] + '.jpg'\n",
    "    #try:\n",
    "    im = plt.imread(path)\n",
    "    _, cnn_input = prep_image(im)\n",
    "    #except IOError:\n",
    "    #        continue\n",
    "    features = get_cnn_features(cnn_input)\n",
    "    item['cnn features'] = features"
   ]
  },
  {
   "cell_type": "markdown",
   "metadata": {},
   "source": [
    "Train/test split"
   ]
  },
  {
   "cell_type": "code",
   "execution_count": 79,
   "metadata": {
    "collapsed": false
   },
   "outputs": [],
   "source": [
    "train1, test = model_selection.train_test_split(sample_images, train_size=0.8, random_state=42)\n",
    "train, val = model_selection.train_test_split(train1, train_size=0.8, random_state=42)\n",
    "\n",
    "for item in train:\n",
    "    item['split'] = 'train'\n",
    "    \n",
    "for item in train:\n",
    "    item['split'] = 'val'\n",
    "\n",
    "for item in test:\n",
    "    item['split'] = 'test'"
   ]
  },
  {
   "cell_type": "code",
   "execution_count": 80,
   "metadata": {
    "collapsed": true
   },
   "outputs": [],
   "source": [
    "pickle.dump(sample_images, open('sample_images_cnn_features.pkl','w'), protocol=pickle.HIGHEST_PROTOCOL)"
   ]
  },
  {
   "cell_type": "markdown",
   "metadata": {},
   "source": [
    "# 2. RNN Training"
   ]
  },
  {
   "cell_type": "code",
   "execution_count": 81,
   "metadata": {
    "collapsed": false
   },
   "outputs": [],
   "source": [
    "dataset = pickle.load(open('sample_images_cnn_features.pkl'))"
   ]
  },
  {
   "cell_type": "code",
   "execution_count": 82,
   "metadata": {
    "collapsed": false
   },
   "outputs": [
    {
     "data": {
      "text/plain": [
       "143"
      ]
     },
     "execution_count": 82,
     "metadata": {},
     "output_type": "execute_result"
    }
   ],
   "source": [
    "allwords = Counter()\n",
    "for item in dataset:\n",
    "    tokens = item['tokens']\n",
    "    #for sentence in item['sentences']:\n",
    "    allwords.update(tokens)\n",
    "        \n",
    "vocab = [k for k, v in allwords.items() if v >= 5]\n",
    "vocab.insert(0, '#START#')\n",
    "vocab.append('#END#')\n",
    "\n",
    "word_to_index = {w: i for i, w in enumerate(vocab)}\n",
    "index_to_word = {i: w for i, w in enumerate(vocab)}\n",
    "\n",
    "len(vocab)"
   ]
  },
  {
   "cell_type": "code",
   "execution_count": 83,
   "metadata": {
    "collapsed": true
   },
   "outputs": [],
   "source": [
    "SEQUENCE_LENGTH = 30\n",
    "MAX_SENTENCE_LENGTH = SEQUENCE_LENGTH - 3 # 1 for image, 1 for start token, 1 for end token\n",
    "BATCH_SIZE = 100\n",
    "CNN_FEATURE_SIZE = 1000\n",
    "EMBEDDING_SIZE = 256"
   ]
  },
  {
   "cell_type": "code",
   "execution_count": 84,
   "metadata": {
    "collapsed": true
   },
   "outputs": [],
   "source": [
    "# Returns a list of tuples (cnn features, list of words, image ID)\n",
    "def get_data_batch(dataset, size, split='train'):\n",
    "    items = []\n",
    "    \n",
    "    while len(items) < size:\n",
    "        item = random.choice(dataset)\n",
    "        if item['split'] != split:\n",
    "            continue\n",
    "        sentence = item['tokens']\n",
    "        if len(sentence) > MAX_SENTENCE_LENGTH:\n",
    "            continue\n",
    "        items.append((item['cnn features'], sentence, item['imid']))\n",
    "    \n",
    "    return items"
   ]
  },
  {
   "cell_type": "code",
   "execution_count": 85,
   "metadata": {
    "collapsed": true
   },
   "outputs": [],
   "source": [
    "# Convert a list of tuples into arrays that can be fed into the network\n",
    "def prep_batch_for_network(batch):\n",
    "    x_cnn = floatX(np.zeros((len(batch), 1000)))\n",
    "    x_sentence = np.zeros((len(batch), SEQUENCE_LENGTH - 1), dtype='int32')\n",
    "    y_sentence = np.zeros((len(batch), SEQUENCE_LENGTH), dtype='int32')\n",
    "    mask = np.zeros((len(batch), SEQUENCE_LENGTH), dtype='bool')\n",
    "\n",
    "    for j, (cnn_features, sentence, _) in enumerate(batch):\n",
    "        x_cnn[j] = cnn_features\n",
    "        i = 0\n",
    "        for word in ['#START#'] + sentence + ['#END#']:\n",
    "            if word in word_to_index:\n",
    "                mask[j, i] = True\n",
    "                y_sentence[j, i] = word_to_index[word]\n",
    "                x_sentence[j, i] = word_to_index[word]\n",
    "                i += 1\n",
    "        #mask[j, 0] = False\n",
    "                \n",
    "    return x_cnn, x_sentence, y_sentence, mask"
   ]
  },
  {
   "cell_type": "code",
   "execution_count": 86,
   "metadata": {
    "collapsed": true
   },
   "outputs": [],
   "source": [
    "# sentence embedding maps integer sequence with dim (BATCH_SIZE, SEQUENCE_LENGTH - 1) to \n",
    "# (BATCH_SIZE, SEQUENCE_LENGTH-1, EMBEDDING_SIZE)\n",
    "l_input_sentence = lasagne.layers.InputLayer((BATCH_SIZE, SEQUENCE_LENGTH - 1))\n",
    "l_sentence_embedding = lasagne.layers.EmbeddingLayer(l_input_sentence,\n",
    "                                                     input_size=len(vocab),\n",
    "                                                     output_size=EMBEDDING_SIZE,\n",
    "                                                    )\n",
    "\n",
    "# cnn embedding changes the dimensionality of the representation from 1000 to EMBEDDING_SIZE, \n",
    "# and reshapes to add the time dimension - final dim (BATCH_SIZE, 1, EMBEDDING_SIZE)\n",
    "l_input_cnn = lasagne.layers.InputLayer((BATCH_SIZE, CNN_FEATURE_SIZE))\n",
    "l_cnn_embedding = lasagne.layers.DenseLayer(l_input_cnn, num_units=EMBEDDING_SIZE,\n",
    "                                            nonlinearity=lasagne.nonlinearities.identity)\n",
    "\n",
    "l_cnn_embedding = lasagne.layers.ReshapeLayer(l_cnn_embedding, ([0], 1, [1]))\n",
    "\n",
    "# the two are concatenated to form the RNN input with dim (BATCH_SIZE, SEQUENCE_LENGTH, EMBEDDING_SIZE)\n",
    "l_rnn_input = lasagne.layers.ConcatLayer([l_cnn_embedding, l_sentence_embedding])\n",
    "\n",
    "l_dropout_input = lasagne.layers.DropoutLayer(l_rnn_input, p=0.5)\n",
    "l_lstm = lasagne.layers.LSTMLayer(l_dropout_input,\n",
    "                                  num_units=EMBEDDING_SIZE,\n",
    "                                  unroll_scan=True,\n",
    "                                  grad_clipping=5.)\n",
    "l_dropout_output = lasagne.layers.DropoutLayer(l_lstm, p=0.5)\n",
    "\n",
    "# the RNN output is reshaped to combine the batch and time dimensions\n",
    "# dim (BATCH_SIZE * SEQUENCE_LENGTH, EMBEDDING_SIZE)\n",
    "l_shp = lasagne.layers.ReshapeLayer(l_dropout_output, (-1, EMBEDDING_SIZE))\n",
    "\n",
    "# decoder is a fully connected layer with one output unit for each word in the vocabulary\n",
    "l_decoder = lasagne.layers.DenseLayer(l_shp, num_units=len(vocab), nonlinearity=lasagne.nonlinearities.softmax)\n",
    "\n",
    "# finally, the separation between batch and time dimension is restored\n",
    "l_out = lasagne.layers.ReshapeLayer(l_decoder, (BATCH_SIZE, SEQUENCE_LENGTH, len(vocab)))"
   ]
  },
  {
   "cell_type": "code",
   "execution_count": 87,
   "metadata": {
    "collapsed": true
   },
   "outputs": [],
   "source": [
    "# cnn feature vector\n",
    "x_cnn_sym = T.matrix()\n",
    "\n",
    "# sentence encoded as sequence of integer word tokens\n",
    "x_sentence_sym = T.imatrix()\n",
    "\n",
    "# mask defines which elements of the sequence should be predicted\n",
    "mask_sym = T.imatrix()\n",
    "\n",
    "# ground truth for the RNN output\n",
    "y_sentence_sym = T.imatrix()"
   ]
  },
  {
   "cell_type": "code",
   "execution_count": 88,
   "metadata": {
    "collapsed": true
   },
   "outputs": [],
   "source": [
    "output = lasagne.layers.get_output(l_out, {\n",
    "                l_input_sentence: x_sentence_sym,\n",
    "                l_input_cnn: x_cnn_sym\n",
    "                })"
   ]
  },
  {
   "cell_type": "code",
   "execution_count": 89,
   "metadata": {
    "collapsed": true
   },
   "outputs": [],
   "source": [
    "def calc_cross_ent(net_output, mask, targets):\n",
    "    # Helper function to calculate the cross entropy error\n",
    "    preds = T.reshape(net_output, (-1, len(vocab)))\n",
    "    targets = T.flatten(targets)\n",
    "    cost = T.nnet.categorical_crossentropy(preds, targets)[T.flatten(mask).nonzero()]\n",
    "    return cost\n",
    "\n",
    "loss = T.mean(calc_cross_ent(output, mask_sym, y_sentence_sym))"
   ]
  },
  {
   "cell_type": "code",
   "execution_count": 91,
   "metadata": {
    "collapsed": true
   },
   "outputs": [],
   "source": [
    "MAX_GRAD_NORM = 15\n",
    "\n",
    "all_params = lasagne.layers.get_all_params(l_out, trainable=True)\n",
    "\n",
    "all_grads = T.grad(loss, all_params)\n",
    "all_grads = [T.clip(g, -5, 5) for g in all_grads]\n",
    "all_grads, norm = lasagne.updates.total_norm_constraint(\n",
    "    all_grads, MAX_GRAD_NORM, return_norm=True)\n",
    "\n",
    "updates = lasagne.updates.adam(all_grads, all_params, learning_rate=0.001)\n",
    "\n",
    "f_train = theano.function([x_cnn_sym, x_sentence_sym, mask_sym, y_sentence_sym],\n",
    "                          [loss, norm],\n",
    "                          updates=updates\n",
    "                         )\n",
    "\n",
    "f_val = theano.function([x_cnn_sym, x_sentence_sym, mask_sym, y_sentence_sym], loss)"
   ]
  },
  {
   "cell_type": "code",
   "execution_count": 92,
   "metadata": {
    "collapsed": false
   },
   "outputs": [
    {
     "name": "stdout",
     "output_type": "stream",
     "text": [
      "Iteration 0, loss_train: 4.97594690323, norm: 0.747517883778\n",
      "Val loss: 4.90954065323\n",
      "Iteration 250, loss_train: 0.0204353183508, norm: 0.0261108819395\n",
      "Val loss: 7.77329397202\n",
      "Iteration 500, loss_train: 0.00407340750098, norm: 0.00587898585945\n",
      "Val loss: 8.49298286438\n",
      "Iteration 750, loss_train: 0.00211327034049, norm: 0.00490719592199\n",
      "Val loss: 8.60879898071\n",
      "Iteration 1000, loss_train: 0.00122747058049, norm: 0.00222837040201\n",
      "Val loss: 8.69876861572\n",
      "Iteration 1250, loss_train: 0.000942193903029, norm: 0.00231156568043\n",
      "Val loss: 9.20812225342\n",
      "Iteration 1500, loss_train: 0.000558745698072, norm: 0.00131814554334\n",
      "Val loss: 8.81382369995\n",
      "Iteration 1750, loss_train: 0.000449063256383, norm: 0.00113265658729\n",
      "Val loss: 9.63011741638\n"
     ]
    }
   ],
   "source": [
    "for iteration in range(2000):\n",
    "    x_cnn, x_sentence, y_sentence, mask = prep_batch_for_network(get_data_batch(dataset, BATCH_SIZE))\n",
    "    loss_train, norm = f_train(x_cnn, x_sentence, mask, y_sentence)\n",
    "    if not iteration % 250:\n",
    "        print('Iteration {}, loss_train: {}, norm: {}'.format(iteration, loss_train, norm))\n",
    "        try:\n",
    "            batch = get_data_batch(dataset, BATCH_SIZE, split='val')\n",
    "            x_cnn, x_sentence, y_sentence, mask = prep_batch_for_network(batch)\n",
    "            loss_val = f_val(x_cnn, x_sentence, mask, y_sentence)\n",
    "            print('Val loss: {}'.format(loss_val))\n",
    "        except IndexError:\n",
    "            continue"
   ]
  },
  {
   "cell_type": "code",
   "execution_count": null,
   "metadata": {
    "collapsed": true
   },
   "outputs": [],
   "source": []
  }
 ],
 "metadata": {
  "anaconda-cloud": {},
  "kernelspec": {
   "display_name": "Python [conda env:TheanoLasagne]",
   "language": "python",
   "name": "conda-env-TheanoLasagne-py"
  },
  "language_info": {
   "codemirror_mode": {
    "name": "ipython",
    "version": 2
   },
   "file_extension": ".py",
   "mimetype": "text/x-python",
   "name": "python",
   "nbconvert_exporter": "python",
   "pygments_lexer": "ipython2",
   "version": "2.7.13"
  }
 },
 "nbformat": 4,
 "nbformat_minor": 2
}
